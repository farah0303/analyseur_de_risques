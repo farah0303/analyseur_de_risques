{
  "metadata": {
    "kernelspec": {
      "name": "python3",
      "display_name": "Python 3",
      "language": "python"
    },
    "language_info": {
      "name": "python",
      "version": "3.11.13",
      "mimetype": "text/x-python",
      "codemirror_mode": {
        "name": "ipython",
        "version": 3
      },
      "pygments_lexer": "ipython3",
      "nbconvert_exporter": "python",
      "file_extension": ".py"
    },
    "colab": {
      "gpuType": "T4",
      "provenance": []
    },
    "accelerator": "GPU",
    "kaggle": {
      "accelerator": "gpu",
      "dataSources": [],
      "dockerImageVersionId": 31090,
      "isInternetEnabled": true,
      "language": "python",
      "sourceType": "notebook",
      "isGpuEnabled": true
    },
  "nbformat_minor": 0,
  "nbformat": 4,
  "cells": [
    {
      "cell_type": "code",
      "source": [
        "!pip install -U transformers"
      ],
      "metadata": {
        "id": "--Q8XO7dLc3l",
        "colab": {
          "base_uri": "https://localhost:8080/"
        },
        "outputId": "3214b904-a62e-4526-c9e2-dcd22b250c81",
        "trusted": true,
        "execution": {
          "iopub.status.busy": "2025-08-22T14:30:33.184670Z",
          "iopub.execute_input": "2025-08-22T14:30:33.184928Z",
          "iopub.status.idle": "2025-08-22T14:30:46.743670Z",
          "shell.execute_reply.started": "2025-08-22T14:30:33.184906Z",
          "shell.execute_reply": "2025-08-22T14:30:46.742958Z"
        }
      },
      "outputs": [
        {
          "output_type": "stream",
          "name": "stdout",
          "text": [
            "Requirement already satisfied: transformers in /usr/local/lib/python3.12/dist-packages (4.56.1)\n",
            "Requirement already satisfied: filelock in /usr/local/lib/python3.12/dist-packages (from transformers) (3.19.1)\n",
            "Requirement already satisfied: huggingface-hub<1.0,>=0.34.0 in /usr/local/lib/python3.12/dist-packages (from transformers) (0.34.4)\n",
            "Requirement already satisfied: numpy>=1.17 in /usr/local/lib/python3.12/dist-packages (from transformers) (2.0.2)\n",
            "Requirement already satisfied: packaging>=20.0 in /usr/local/lib/python3.12/dist-packages (from transformers) (25.0)\n",
            "Requirement already satisfied: pyyaml>=5.1 in /usr/local/lib/python3.12/dist-packages (from transformers) (6.0.2)\n",
            "Requirement already satisfied: regex!=2019.12.17 in /usr/local/lib/python3.12/dist-packages (from transformers) (2024.11.6)\n",
            "Requirement already satisfied: requests in /usr/local/lib/python3.12/dist-packages (from transformers) (2.32.4)\n",
            "Requirement already satisfied: tokenizers<=0.23.0,>=0.22.0 in /usr/local/lib/python3.12/dist-packages (from transformers) (0.22.0)\n",
            "Requirement already satisfied: safetensors>=0.4.3 in /usr/local/lib/python3.12/dist-packages (from transformers) (0.6.2)\n",
            "Requirement already satisfied: tqdm>=4.27 in /usr/local/lib/python3.12/dist-packages (from transformers) (4.67.1)\n",
            "Requirement already satisfied: fsspec>=2023.5.0 in /usr/local/lib/python3.12/dist-packages (from huggingface-hub<1.0,>=0.34.0->transformers) (2025.3.0)\n",
            "Requirement already satisfied: typing-extensions>=3.7.4.3 in /usr/local/lib/python3.12/dist-packages (from huggingface-hub<1.0,>=0.34.0->transformers) (4.15.0)\n",
            "Requirement already satisfied: hf-xet<2.0.0,>=1.1.3 in /usr/local/lib/python3.12/dist-packages (from huggingface-hub<1.0,>=0.34.0->transformers) (1.1.9)\n",
            "Requirement already satisfied: charset_normalizer<4,>=2 in /usr/local/lib/python3.12/dist-packages (from requests->transformers) (3.4.3)\n",
            "Requirement already satisfied: idna<4,>=2.5 in /usr/local/lib/python3.12/dist-packages (from requests->transformers) (3.10)\n",
            "Requirement already satisfied: urllib3<3,>=1.21.1 in /usr/local/lib/python3.12/dist-packages (from requests->transformers) (2.5.0)\n",
            "Requirement already satisfied: certifi>=2017.4.17 in /usr/local/lib/python3.12/dist-packages (from requests->transformers) (2025.8.3)\n"
          ]
        }
      ],
      "execution_count": null
    },
    {
      "cell_type": "markdown",
      "source": [
        "## Local Inference on GPU\n",
        "Model page: https://huggingface.co/mistralai/Mistral-7B-Instruct-v0.3\n",
        "\n",
        "⚠️ If the generated code snippets do not work, please open an issue on either the [model repo](https://huggingface.co/mistralai/Mistral-7B-Instruct-v0.3)\n",
        "\t\t\tand/or on [huggingface.js](https://github.com/huggingface/huggingface.js/blob/main/packages/tasks/src/model-libraries-snippets.ts) 🙏"
      ],
      "metadata": {
        "id": "Z2MGr_yiLc3m"
      }
    },
    {
      "cell_type": "markdown",
      "source": [
        "The model you are trying to use is gated. Please make sure you have access to it by visiting the model page.To run inference, either set HF_TOKEN in your environment variables/ Secrets or run the following cell to login. 🤗"
      ],
      "metadata": {
        "id": "nhdxPCUHLc3o"
      }
    },
    {
      "cell_type": "code",
      "source": [
        "pip install bitsandbytes accelerate\n"
      ],
      "metadata": {
        "id": "X4eM0rxIUFp2",
        "colab": {
          "base_uri": "https://localhost:8080/"
        },
        "outputId": "8a49e442-80d3-4e3c-e681-d1ab2f085828",
        "trusted": true,
        "execution": {
          "iopub.status.busy": "2025-08-22T14:30:46.745146Z",
          "iopub.execute_input": "2025-08-22T14:30:46.745369Z",
          "iopub.status.idle": "2025-08-22T14:31:54.837538Z",
          "shell.execute_reply.started": "2025-08-22T14:30:46.745347Z",
          "shell.execute_reply": "2025-08-22T14:31:54.836637Z"
        }
      },
      "outputs": [
        {
          "output_type": "stream",
          "name": "stdout",
          "text": [
            "Requirement already satisfied: bitsandbytes in /usr/local/lib/python3.12/dist-packages (0.47.0)\n",
            "Requirement already satisfied: accelerate in /usr/local/lib/python3.12/dist-packages (1.10.1)\n",
            "Requirement already satisfied: torch<3,>=2.2 in /usr/local/lib/python3.12/dist-packages (from bitsandbytes) (2.8.0+cu126)\n",
            "Requirement already satisfied: numpy>=1.17 in /usr/local/lib/python3.12/dist-packages (from bitsandbytes) (2.0.2)\n",
            "Requirement already satisfied: packaging>=20.0 in /usr/local/lib/python3.12/dist-packages (from accelerate) (25.0)\n",
            "Requirement already satisfied: psutil in /usr/local/lib/python3.12/dist-packages (from accelerate) (5.9.5)\n",
            "Requirement already satisfied: pyyaml in /usr/local/lib/python3.12/dist-packages (from accelerate) (6.0.2)\n",
            "Requirement already satisfied: huggingface_hub>=0.21.0 in /usr/local/lib/python3.12/dist-packages (from accelerate) (0.34.4)\n",
            "Requirement already satisfied: safetensors>=0.4.3 in /usr/local/lib/python3.12/dist-packages (from accelerate) (0.6.2)\n",
            "Requirement already satisfied: filelock in /usr/local/lib/python3.12/dist-packages (from huggingface_hub>=0.21.0->accelerate) (3.19.1)\n",
            "Requirement already satisfied: fsspec>=2023.5.0 in /usr/local/lib/python3.12/dist-packages (from huggingface_hub>=0.21.0->accelerate) (2025.3.0)\n",
            "Requirement already satisfied: requests in /usr/local/lib/python3.12/dist-packages (from huggingface_hub>=0.21.0->accelerate) (2.32.4)\n",
            "Requirement already satisfied: tqdm>=4.42.1 in /usr/local/lib/python3.12/dist-packages (from huggingface_hub>=0.21.0->accelerate) (4.67.1)\n",
            "Requirement already satisfied: typing-extensions>=3.7.4.3 in /usr/local/lib/python3.12/dist-packages (from huggingface_hub>=0.21.0->accelerate) (4.15.0)\n",
            "Requirement already satisfied: hf-xet<2.0.0,>=1.1.3 in /usr/local/lib/python3.12/dist-packages (from huggingface_hub>=0.21.0->accelerate) (1.1.9)\n",
            "Requirement already satisfied: setuptools in /usr/local/lib/python3.12/dist-packages (from torch<3,>=2.2->bitsandbytes) (75.2.0)\n",
            "Requirement already satisfied: sympy>=1.13.3 in /usr/local/lib/python3.12/dist-packages (from torch<3,>=2.2->bitsandbytes) (1.13.3)\n",
            "Requirement already satisfied: networkx in /usr/local/lib/python3.12/dist-packages (from torch<3,>=2.2->bitsandbytes) (3.5)\n",
            "Requirement already satisfied: jinja2 in /usr/local/lib/python3.12/dist-packages (from torch<3,>=2.2->bitsandbytes) (3.1.6)\n",
            "Requirement already satisfied: nvidia-cuda-nvrtc-cu12==12.6.77 in /usr/local/lib/python3.12/dist-packages (from torch<3,>=2.2->bitsandbytes) (12.6.77)\n",
            "Requirement already satisfied: nvidia-cuda-runtime-cu12==12.6.77 in /usr/local/lib/python3.12/dist-packages (from torch<3,>=2.2->bitsandbytes) (12.6.77)\n",
            "Requirement already satisfied: nvidia-cuda-cupti-cu12==12.6.80 in /usr/local/lib/python3.12/dist-packages (from torch<3,>=2.2->bitsandbytes) (12.6.80)\n",
            "Requirement already satisfied: nvidia-cudnn-cu12==9.10.2.21 in /usr/local/lib/python3.12/dist-packages (from torch<3,>=2.2->bitsandbytes) (9.10.2.21)\n",
            "Requirement already satisfied: nvidia-cublas-cu12==12.6.4.1 in /usr/local/lib/python3.12/dist-packages (from torch<3,>=2.2->bitsandbytes) (12.6.4.1)\n",
            "Requirement already satisfied: nvidia-cufft-cu12==11.3.0.4 in /usr/local/lib/python3.12/dist-packages (from torch<3,>=2.2->bitsandbytes) (11.3.0.4)\n",
            "Requirement already satisfied: nvidia-curand-cu12==10.3.7.77 in /usr/local/lib/python3.12/dist-packages (from torch<3,>=2.2->bitsandbytes) (10.3.7.77)\n",
            "Requirement already satisfied: nvidia-cusolver-cu12==11.7.1.2 in /usr/local/lib/python3.12/dist-packages (from torch<3,>=2.2->bitsandbytes) (11.7.1.2)\n",
            "Requirement already satisfied: nvidia-cusparse-cu12==12.5.4.2 in /usr/local/lib/python3.12/dist-packages (from torch<3,>=2.2->bitsandbytes) (12.5.4.2)\n",
            "Requirement already satisfied: nvidia-cusparselt-cu12==0.7.1 in /usr/local/lib/python3.12/dist-packages (from torch<3,>=2.2->bitsandbytes) (0.7.1)\n",
            "Requirement already satisfied: nvidia-nccl-cu12==2.27.3 in /usr/local/lib/python3.12/dist-packages (from torch<3,>=2.2->bitsandbytes) (2.27.3)\n",
            "Requirement already satisfied: nvidia-nvtx-cu12==12.6.77 in /usr/local/lib/python3.12/dist-packages (from torch<3,>=2.2->bitsandbytes) (12.6.77)\n",
            "Requirement already satisfied: nvidia-nvjitlink-cu12==12.6.85 in /usr/local/lib/python3.12/dist-packages (from torch<3,>=2.2->bitsandbytes) (12.6.85)\n",
            "Requirement already satisfied: nvidia-cufile-cu12==1.11.1.6 in /usr/local/lib/python3.12/dist-packages (from torch<3,>=2.2->bitsandbytes) (1.11.1.6)\n",
            "Requirement already satisfied: triton==3.4.0 in /usr/local/lib/python3.12/dist-packages (from torch<3,>=2.2->bitsandbytes) (3.4.0)\n",
            "Requirement already satisfied: mpmath<1.4,>=1.1.0 in /usr/local/lib/python3.12/dist-packages (from sympy>=1.13.3->torch<3,>=2.2->bitsandbytes) (1.3.0)\n",
            "Requirement already satisfied: MarkupSafe>=2.0 in /usr/local/lib/python3.12/dist-packages (from jinja2->torch<3,>=2.2->bitsandbytes) (3.0.2)\n",
            "Requirement already satisfied: charset_normalizer<4,>=2 in /usr/local/lib/python3.12/dist-packages (from requests->huggingface_hub>=0.21.0->accelerate) (3.4.3)\n",
            "Requirement already satisfied: idna<4,>=2.5 in /usr/local/lib/python3.12/dist-packages (from requests->huggingface_hub>=0.21.0->accelerate) (3.10)\n",
            "Requirement already satisfied: urllib3<3,>=1.21.1 in /usr/local/lib/python3.12/dist-packages (from requests->huggingface_hub>=0.21.0->accelerate) (2.5.0)\n",
            "Requirement already satisfied: certifi>=2017.4.17 in /usr/local/lib/python3.12/dist-packages (from requests->huggingface_hub>=0.21.0->accelerate) (2025.8.3)\n"
          ]
        }
      ],
      "execution_count": null
    },
    {
      "cell_type": "code",
      "source": [
        "pip install --upgrade bitsandbytes transformers"
      ],
      "metadata": {
        "colab": {
          "base_uri": "https://localhost:8080/"
        },
        "id": "BeXLheO7Lk06",
        "outputId": "8e4753e8-394c-45f8-9d9a-9611c5bdaeaf",
        "trusted": true,
        "execution": {
          "iopub.status.busy": "2025-08-22T14:31:54.838689Z",
          "iopub.execute_input": "2025-08-22T14:31:54.839009Z",
          "iopub.status.idle": "2025-08-22T14:31:58.134791Z",
          "shell.execute_reply.started": "2025-08-22T14:31:54.838956Z",
          "shell.execute_reply": "2025-08-22T14:31:58.133952Z"
        }
      },
      "outputs": [
        {
          "output_type": "stream",
          "name": "stdout",
          "text": [
            "Requirement already satisfied: bitsandbytes in /usr/local/lib/python3.12/dist-packages (0.47.0)\n",
            "Requirement already satisfied: transformers in /usr/local/lib/python3.12/dist-packages (4.56.1)\n",
            "Requirement already satisfied: torch<3,>=2.2 in /usr/local/lib/python3.12/dist-packages (from bitsandbytes) (2.8.0+cu126)\n",
            "Requirement already satisfied: numpy>=1.17 in /usr/local/lib/python3.12/dist-packages (from bitsandbytes) (2.0.2)\n",
            "Requirement already satisfied: filelock in /usr/local/lib/python3.12/dist-packages (from transformers) (3.19.1)\n",
            "Requirement already satisfied: huggingface-hub<1.0,>=0.34.0 in /usr/local/lib/python3.12/dist-packages (from transformers) (0.34.4)\n",
            "Requirement already satisfied: packaging>=20.0 in /usr/local/lib/python3.12/dist-packages (from transformers) (25.0)\n",
            "Requirement already satisfied: pyyaml>=5.1 in /usr/local/lib/python3.12/dist-packages (from transformers) (6.0.2)\n",
            "Requirement already satisfied: regex!=2019.12.17 in /usr/local/lib/python3.12/dist-packages (from transformers) (2024.11.6)\n",
            "Requirement already satisfied: requests in /usr/local/lib/python3.12/dist-packages (from transformers) (2.32.4)\n",
            "Requirement already satisfied: tokenizers<=0.23.0,>=0.22.0 in /usr/local/lib/python3.12/dist-packages (from transformers) (0.22.0)\n",
            "Requirement already satisfied: safetensors>=0.4.3 in /usr/local/lib/python3.12/dist-packages (from transformers) (0.6.2)\n",
            "Requirement already satisfied: tqdm>=4.27 in /usr/local/lib/python3.12/dist-packages (from transformers) (4.67.1)\n",
            "Requirement already satisfied: fsspec>=2023.5.0 in /usr/local/lib/python3.12/dist-packages (from huggingface-hub<1.0,>=0.34.0->transformers) (2025.3.0)\n",
            "Requirement already satisfied: typing-extensions>=3.7.4.3 in /usr/local/lib/python3.12/dist-packages (from huggingface-hub<1.0,>=0.34.0->transformers) (4.15.0)\n",
            "Requirement already satisfied: hf-xet<2.0.0,>=1.1.3 in /usr/local/lib/python3.12/dist-packages (from huggingface-hub<1.0,>=0.34.0->transformers) (1.1.9)\n",
            "Requirement already satisfied: setuptools in /usr/local/lib/python3.12/dist-packages (from torch<3,>=2.2->bitsandbytes) (75.2.0)\n",
            "Requirement already satisfied: sympy>=1.13.3 in /usr/local/lib/python3.12/dist-packages (from torch<3,>=2.2->bitsandbytes) (1.13.3)\n",
            "Requirement already satisfied: networkx in /usr/local/lib/python3.12/dist-packages (from torch<3,>=2.2->bitsandbytes) (3.5)\n",
            "Requirement already satisfied: jinja2 in /usr/local/lib/python3.12/dist-packages (from torch<3,>=2.2->bitsandbytes) (3.1.6)\n",
            "Requirement already satisfied: nvidia-cuda-nvrtc-cu12==12.6.77 in /usr/local/lib/python3.12/dist-packages (from torch<3,>=2.2->bitsandbytes) (12.6.77)\n",
            "Requirement already satisfied: nvidia-cuda-runtime-cu12==12.6.77 in /usr/local/lib/python3.12/dist-packages (from torch<3,>=2.2->bitsandbytes) (12.6.77)\n",
            "Requirement already satisfied: nvidia-cuda-cupti-cu12==12.6.80 in /usr/local/lib/python3.12/dist-packages (from torch<3,>=2.2->bitsandbytes) (12.6.80)\n",
            "Requirement already satisfied: nvidia-cudnn-cu12==9.10.2.21 in /usr/local/lib/python3.12/dist-packages (from torch<3,>=2.2->bitsandbytes) (9.10.2.21)\n",
            "Requirement already satisfied: nvidia-cublas-cu12==12.6.4.1 in /usr/local/lib/python3.12/dist-packages (from torch<3,>=2.2->bitsandbytes) (12.6.4.1)\n",
            "Requirement already satisfied: nvidia-cufft-cu12==11.3.0.4 in /usr/local/lib/python3.12/dist-packages (from torch<3,>=2.2->bitsandbytes) (11.3.0.4)\n",
            "Requirement already satisfied: nvidia-curand-cu12==10.3.7.77 in /usr/local/lib/python3.12/dist-packages (from torch<3,>=2.2->bitsandbytes) (10.3.7.77)\n",
            "Requirement already satisfied: nvidia-cusolver-cu12==11.7.1.2 in /usr/local/lib/python3.12/dist-packages (from torch<3,>=2.2->bitsandbytes) (11.7.1.2)\n",
            "Requirement already satisfied: nvidia-cusparse-cu12==12.5.4.2 in /usr/local/lib/python3.12/dist-packages (from torch<3,>=2.2->bitsandbytes) (12.5.4.2)\n",
            "Requirement already satisfied: nvidia-cusparselt-cu12==0.7.1 in /usr/local/lib/python3.12/dist-packages (from torch<3,>=2.2->bitsandbytes) (0.7.1)\n",
            "Requirement already satisfied: nvidia-nccl-cu12==2.27.3 in /usr/local/lib/python3.12/dist-packages (from torch<3,>=2.2->bitsandbytes) (2.27.3)\n",
            "Requirement already satisfied: nvidia-nvtx-cu12==12.6.77 in /usr/local/lib/python3.12/dist-packages (from torch<3,>=2.2->bitsandbytes) (12.6.77)\n",
            "Requirement already satisfied: nvidia-nvjitlink-cu12==12.6.85 in /usr/local/lib/python3.12/dist-packages (from torch<3,>=2.2->bitsandbytes) (12.6.85)\n",
            "Requirement already satisfied: nvidia-cufile-cu12==1.11.1.6 in /usr/local/lib/python3.12/dist-packages (from torch<3,>=2.2->bitsandbytes) (1.11.1.6)\n",
            "Requirement already satisfied: triton==3.4.0 in /usr/local/lib/python3.12/dist-packages (from torch<3,>=2.2->bitsandbytes) (3.4.0)\n",
            "Requirement already satisfied: charset_normalizer<4,>=2 in /usr/local/lib/python3.12/dist-packages (from requests->transformers) (3.4.3)\n",
            "Requirement already satisfied: idna<4,>=2.5 in /usr/local/lib/python3.12/dist-packages (from requests->transformers) (3.10)\n",
            "Requirement already satisfied: urllib3<3,>=1.21.1 in /usr/local/lib/python3.12/dist-packages (from requests->transformers) (2.5.0)\n",
            "Requirement already satisfied: certifi>=2017.4.17 in /usr/local/lib/python3.12/dist-packages (from requests->transformers) (2025.8.3)\n",
            "Requirement already satisfied: mpmath<1.4,>=1.1.0 in /usr/local/lib/python3.12/dist-packages (from sympy>=1.13.3->torch<3,>=2.2->bitsandbytes) (1.3.0)\n",
            "Requirement already satisfied: MarkupSafe>=2.0 in /usr/local/lib/python3.12/dist-packages (from jinja2->torch<3,>=2.2->bitsandbytes) (3.0.2)\n"
          ]
        }
      ],
      "execution_count": null
    },
    {
      "cell_type": "code",
      "source": [
        "from google.colab import userdata\n",
        "from transformers import AutoTokenizer, AutoModelForCausalLM, BitsAndBytesConfig, pipeline\n",
        "import torch\n",
        "\n",
        "# 🔐 Load token from Colab's secure storage\n",
        "hf_token = userdata.get('HF_TOKEN')\n",
        "\n",
        "model_name = \"mistralai/Mistral-7B-Instruct-v0.3\"\n",
        "\n",
        "quant_config = BitsAndBytesConfig(\n",
        "    load_in_4bit=True,\n",
        "    bnb_4bit_quant_type=\"nf4\",\n",
        "    bnb_4bit_compute_dtype=torch.bfloat16\n",
        ")\n",
        "\n",
        "tokenizer = AutoTokenizer.from_pretrained(model_name, token=hf_token)\n",
        "model = AutoModelForCausalLM.from_pretrained(\n",
        "    model_name,\n",
        "    device_map=\"auto\",\n",
        "    quantization_config=quant_config,\n",
        "    torch_dtype=torch.bfloat16,\n",
        "    token=hf_token\n",
        ")\n",
        "\n",
        "pipe = pipeline(\n",
        "    \"text-generation\",\n",
        "    model=model,\n",
        "    tokenizer=tokenizer,\n",
        "    max_new_tokens=500,\n",
        "    temperature=0.0,\n",
        "    top_p=0.95,\n",
        "    do_sample=False\n",
        ")"
      ],
      "metadata": {
        "id": "CTxM2TGvWS6y",
        "colab": {
          "base_uri": "https://localhost:8080/",
          "height": 453,
          "referenced_widgets": [
            "c8557c94a8044c9f9f68cbc2d6b19966",
            "b2c63e14088f4bada2e47def2db419d5",
            "8c3cea2ce1b647cf850027147e10374f",
            "106f726da2cf44b0956e84cb2e329cbc",
            "9e8cdcef5963474d8bb9c7bd9ee1acad",
            "ed2bee481c0c4e45829c02667e3cf1a7",
            "fabbb6c7bd3f4231ba23099cb2012907",
            "1a64b26f6cc94045bf57ac9f2de0cb06",
            "bb4889993b5a49e49d2756969b336727",
            "c60615c2a7f14db08c6cd63bb67608cc",
            "e7eeeb260aa24051a362f493f1df049e",
            "3bcfac1046914bf69216baf48b6e6fc7",
            "19c74a3512c14820a054d4746a08cd66",
            "ad38d29127a04c4fb09f767688e43168",
            "e6f74c20b2334823b8ef4310380f7387",
            "015927c1c8cd4bbe895a741419bec67e",
            "cb961c9b8bab406c8ed06b916a239a11",
            "837d16072dad425d87750b63038a9240",
            "0b41ac234c4343248c4e5c4d92f80a92",
            "596880252d1b48c28300ca0e14c47d5b",
            "acaf7bf6d58e4f0ab11fe440444b61d3",
            "937e9777d6b145aa882e65c2026ef4d8",
            "380795e442a04e90b6e3797e635c58ef",
            "4a6968ec4687479fb6cb2070e8070ce2",
            "d312a399125d45c9acd957d20efbe67b",
            "c95dc2350d96403fa6aee77a5c05ddcb",
            "cdd89bbd5afd4f16aceb656a0687822e",
            "a24d9710e2dd4ad0bec5ee36c3c9d617",
            "1fa60df01fa34ad587cb035545bbc7cc",
            "2a587338d10f4b3aaf67d574aec86876",
            "48e19f8b643d41e39011edf8ba6fa83d",
            "6cbce8b458b14fbc93ba8b165ce5dc2f",
            "dca3b9f6d6784d729e42d1806af7e482",
            "e484fab8ac8f47e590511f548cb3ef95",
            "e6f08d2fbf514fb5a1fabc536a3a3ec5",
            "2b885e8f835e49999b1fb5c15e455761",
            "6b790005be4248939d97a0e1bde41fd1",
            "6962664c426f4854be263a426c4e70ed",
            "1c4d48e1dffa4486a1ed82462643f2cf",
            "e0c50991aaaf429eb23b57dcc279bb9d",
            "51deb2d28042470b9b6ce8d6c1529343",
            "0aa18d5ade114fc78247424d6129bba9",
            "6d00fef7a9704fb184648a28b592e921",
            "4bb79395b31e4e29812428637e14a590",
            "ed9303ce5d4b4945a0f1d626b2577d61",
            "9f04c89f0ccf43f899aa18d20dc72eaa",
            "6cba6d561003415897a37de8a9802181",
            "74f46014c43c42cbbeaf88047be2274c",
            "c8532c8e798e4aa7a9abc52a630a4562",
            "3e245959e0ad4a5a9cd0ee8e7a4323fc",
            "19ac87fb67b144d29d9347b1abb28ad4",
            "a9b5a7b8990f4a80b0d48adf4de19c51",
            "532a82fd07bf41c599c608c8db2d7664",
            "806f17fe96d349799d5742dbb7c229a7",
            "86ddc851b5414281962ce8f5314c1eb6",
            "feef9b865c854ce0bbd449a913bddb39",
            "3afd882d431e401bba8138144622a703",
            "fa98012c929046fe9dbfd1eea0caf758",
            "6f6810a75127471991f830cd2beb9877",
            "7b4329b232f9434e8dfe9de59936dc3e",
            "456a7e7fb280490ea2a3c64189051f39",
            "113754eaf34c42fc98222c10eb096cdb",
            "1df1df5a36a3453ca646121e469a210e",
            "1cbb4791ad8d43a583486414f2c1a04d",
            "7dffca933d1c436c85c52863a261b083",
            "1c4a06aed1004bb2b62909f48d868b08",
            "34ab72ab1564499691324d8a20e0e5af",
            "5a82ebd4930a4e0a8a2cb35338a9125b",
            "cae1c8798e1a4f04beceaa5c9afaa857",
            "f1c0f8c66c3244378cea6429780ef2c7",
            "90309fc50c774c5eb7b46f482f7bb3dd",
            "6d6165e290cb4b9cbd7c1f1f150e0f65",
            "dff5ac7cac2f4175ba7393ef2a2ce4c6",
            "af9e3248cd174014aae875348908c888",
            "8fe0447b4eb042f48302064a987a3e2f",
            "47587ecae3344a6fa5e731feff491ea6",
            "544bb947945546dc8ee8ab0a02730cdc",
            "ce8db81a2753424c86f7a76a1943c900",
            "4f42cfc1640349d796e343da693bf6b7",
            "c6a0ef4ac4bd4d2f8e7cf0afe0432b86",
            "37626d9eca3e44379d60c6bba46458d0",
            "4631768d18ff43a8998a509846ede87b",
            "997eb0d360494a31b9905a0b9425c398",
            "44474c36a1bd4206996df3601c77dae7",
            "e184ee9cbb814da2b6507c10b7c4faf9",
            "4f766dc571174b36ad45f61f4d25a49a",
            "16447e86e09245faae9e25199bdae46f",
            "e5e53cb4b2ae413fa56a99222ff5b73a",
            "492d2bc509024aef9760d8b8c234dcce",
            "d3de2ccd5c8e4a3fa8dff28236adeea8",
            "c661c6a1e1544ebb98fb7c90db1faf02",
            "5df34cf74df041348c168c22a7db3f1b",
            "a8950f4091a14f17b8be65a1923874fe",
            "b0e6bb02c96d4778b8a06478068194b6",
            "093dcd29808d49cdabb748d939ac7989",
            "258b94bf3bff4bbda2d0c0c800dba9a5",
            "91a55b87ce444149a49a1bca81060896",
            "f685045d320a4a7182f1f315bf34f071",
            "0828a388b6a9457e8afeaa30dfd27429",
            "33c6923f9f2a4cf7a520227e874e9f49",
            "9c94ed1051b84f3d97833f0e6496bd70",
            "8fadd578546940a191f82c9ec3e312d5",
            "0df433c153894679a4c98a70b756cbe1",
            "bcf1578d715f49a0a5d398886e4074e5",
            "ca4a34571f5c446ca4199503bbcdbacb",
            "890ed91b23cb4f1385442e303cadd7a1",
            "c617affda2254ee181e09e7e156b873e",
            "d17ccc5872b140d0a48504e3c44f737a",
            "9d6db4a479b64f819339f0f094815159",
            "f2ff31bc4684441a84df50de9e88f3a0",
            "fadb27b6b641469b9b930b061323e7c6",
            "26ffd08f7f6c4ac888b215b70d71f7fd",
            "2eb4cdbb52444d3a80d812253ee8d4e7",
            "d7aed5261279423e8bbc9eea22934934",
            "f4acbe99f1d94932acbbdb2302e1413f",
            "c50134a9f50e4d08a6bc7db9f14be189",
            "6da94cae21f4491082663ae0185b3825",
            "62f0d30c1c434a45874ef750854659b6",
            "9a77b2daa9e04edf9d21a1d6db08933f",
            "552c9ee529714e848b517847b577b919",
            "5a1a5398522441e0b5f04c9a697bd456",
            "6d49e06f41584068875f174cd480f9e7",
            "58ce15a29a164efd8a681844b050f731",
            "e99d5446f73c455c8f220940c32ea3e5",
            "1a2f28eb4e704e408cef0ab5b761eb9d",
            "596f3c0cbce44d3fadd6f0518e062351",
            "264826995d4e44d1885bfa0198537e1f",
            "75d7fec6adf3495db0571cbc55284bdc",
            "950f6b6d16184fffa0efaa87a832b54a",
            "6365dda7062e466cb4d8263778d2c51c",
            "3952b4cfc8b94e21ab1a48a71e87d866",
            "32e4a56b3b0142e49d69ae1b79f976e1"
          ]
        },
        "outputId": "e2726d6e-0e9c-40ee-c2c9-d177e0f75e98",
        "trusted": true,
        "execution": {
          "iopub.status.busy": "2025-08-22T14:31:58.136816Z",
          "iopub.execute_input": "2025-08-22T14:31:58.137039Z",
          "iopub.status.idle": "2025-08-22T14:35:24.947717Z",
          "shell.execute_reply.started": "2025-08-22T14:31:58.137018Z",
          "shell.execute_reply": "2025-08-22T14:35:24.947011Z"
        }
      },
      "outputs": [
        {
          "output_type": "display_data",
          "data": {
            "text/plain": [
              "tokenizer_config.json:   0%|          | 0.00/141k [00:00<?, ?B/s]"
            ],
            "application/vnd.jupyter.widget-view+json": {
              "version_major": 2,
              "version_minor": 0,
              "model_id": "c8557c94a8044c9f9f68cbc2d6b19966"
            }
          },
          "metadata": {}
        },
        {
          "output_type": "display_data",
          "data": {
            "text/plain": [
              "tokenizer.model:   0%|          | 0.00/587k [00:00<?, ?B/s]"
            ],
            "application/vnd.jupyter.widget-view+json": {
              "version_major": 2,
              "version_minor": 0,
              "model_id": "3bcfac1046914bf69216baf48b6e6fc7"
            }
          },
          "metadata": {}
        },
        {
          "output_type": "display_data",
          "data": {
            "text/plain": [
              "tokenizer.json:   0%|          | 0.00/1.96M [00:00<?, ?B/s]"
            ],
            "application/vnd.jupyter.widget-view+json": {
              "version_major": 2,
              "version_minor": 0,
              "model_id": "380795e442a04e90b6e3797e635c58ef"
            }
          },
          "metadata": {}
        },
        {
          "output_type": "display_data",
          "data": {
            "text/plain": [
              "special_tokens_map.json:   0%|          | 0.00/414 [00:00<?, ?B/s]"
            ],
            "application/vnd.jupyter.widget-view+json": {
              "version_major": 2,
              "version_minor": 0,
              "model_id": "e484fab8ac8f47e590511f548cb3ef95"
            }
          },
          "metadata": {}
        },
        {
          "output_type": "display_data",
          "data": {
            "text/plain": [
              "config.json:   0%|          | 0.00/601 [00:00<?, ?B/s]"
            ],
            "application/vnd.jupyter.widget-view+json": {
              "version_major": 2,
              "version_minor": 0,
              "model_id": "ed9303ce5d4b4945a0f1d626b2577d61"
            }
          },
          "metadata": {}
        },
        {
          "output_type": "stream",
          "name": "stderr",
          "text": [
            "`torch_dtype` is deprecated! Use `dtype` instead!\n"
          ]
        },
        {
          "output_type": "display_data",
          "data": {
            "text/plain": [
              "model.safetensors.index.json:   0%|          | 0.00/23.9k [00:00<?, ?B/s]"
            ],
            "application/vnd.jupyter.widget-view+json": {
              "version_major": 2,
              "version_minor": 0,
              "model_id": "feef9b865c854ce0bbd449a913bddb39"
            }
          },
          "metadata": {}
        },
        {
          "output_type": "display_data",
          "data": {
            "text/plain": [
              "Fetching 3 files:   0%|          | 0/3 [00:00<?, ?it/s]"
            ],
            "application/vnd.jupyter.widget-view+json": {
              "version_major": 2,
              "version_minor": 0,
              "model_id": "34ab72ab1564499691324d8a20e0e5af"
            }
          },
          "metadata": {}
        },
        {
          "output_type": "display_data",
          "data": {
            "text/plain": [
              "model-00001-of-00003.safetensors:   0%|          | 0.00/4.95G [00:00<?, ?B/s]"
            ],
            "application/vnd.jupyter.widget-view+json": {
              "version_major": 2,
              "version_minor": 0,
              "model_id": "ce8db81a2753424c86f7a76a1943c900"
            }
          },
          "metadata": {}
        },
        {
          "output_type": "display_data",
          "data": {
            "text/plain": [
              "model-00002-of-00003.safetensors:   0%|          | 0.00/5.00G [00:00<?, ?B/s]"
            ],
            "application/vnd.jupyter.widget-view+json": {
              "version_major": 2,
              "version_minor": 0,
              "model_id": "492d2bc509024aef9760d8b8c234dcce"
            }
          },
          "metadata": {}
        },
        {
          "output_type": "display_data",
          "data": {
            "text/plain": [
              "model-00003-of-00003.safetensors:   0%|          | 0.00/4.55G [00:00<?, ?B/s]"
            ],
            "application/vnd.jupyter.widget-view+json": {
              "version_major": 2,
              "version_minor": 0,
              "model_id": "33c6923f9f2a4cf7a520227e874e9f49"
            }
          },
          "metadata": {}
        },
        {
          "output_type": "display_data",
          "data": {
            "text/plain": [
              "Loading checkpoint shards:   0%|          | 0/3 [00:00<?, ?it/s]"
            ],
            "application/vnd.jupyter.widget-view+json": {
              "version_major": 2,
              "version_minor": 0,
              "model_id": "fadb27b6b641469b9b930b061323e7c6"
            }
          },
          "metadata": {}
        },
        {
          "output_type": "display_data",
          "data": {
            "text/plain": [
              "generation_config.json:   0%|          | 0.00/116 [00:00<?, ?B/s]"
            ],
            "application/vnd.jupyter.widget-view+json": {
              "version_major": 2,
              "version_minor": 0,
              "model_id": "6d49e06f41584068875f174cd480f9e7"
            }
          },
          "metadata": {}
        },
        {
          "output_type": "stream",
          "name": "stderr",
          "text": [
            "Device set to use cuda:0\n",
            "The following generation flags are not valid and may be ignored: ['temperature', 'top_p']. Set `TRANSFORMERS_VERBOSITY=info` for more details.\n"
          ]
        }
      ],
      "execution_count": null
    },
    {
      "cell_type": "code",
      "source": [
        "# 📝 Formulaire interactif amélioré avec entrée XML illimitée\n",
        "\n",
        "import json\n",
        "from typing import Dict, Any\n",
        "\n",
        "# Saisie des champs principaux\n",
        "epic = input(\"Entrez l'épic : \")\n",
        "fonctionnalite = input(\"Entrez la fonctionnalité : \")\n",
        "commentaire = input(\"Entrez le commentaire : \")\n",
        "\n",
        "# Saisie des tests XML\n",
        "print(\"\\nEntrez les tests XML (un par ligne).\")\n",
        "print(\"Appuyez sur Entrée sur une ligne vide pour terminer :\")\n",
        "xml_tests = []\n",
        "while True:\n",
        "    line = input()\n",
        "    if line.strip() == \"\":\n",
        "        break\n",
        "    xml_tests.append(line.strip())\n",
        "\n",
        "# Joindre tous les XML en un seul bloc\n",
        "xml_contexte = \"\\n\".join(xml_tests) if xml_tests else \"Aucun test XML fourni.\"\n",
        "\n",
        "# 📄 Contexte du projet\n",
        "contexte = \"\"\"\n",
        "Le projet **Orange Money Partners Solutions** vise à offrir une solution digitale complète pour la gestion des distributeurs partenaires et des distributeurs Orange Money. Cette application est divisée en deux axes : le portail des distributeurs et le portail des marchands.\n",
        "\n",
        "---\n",
        "\n",
        "**Portail des Distributeurs** :\n",
        "Le Portail des Distributeurs est une application web dédiée aux partenaires externes à Orange qui assurent la distribution d’Orange Money à travers un réseau hiérarchisé de points de vente. Il permet à ces distributeurs et à leurs collaborateurs de gérer leur propre organisation réseau, de créer ou supprimer des groupes, de déplacer des SIM entre les points de vente, d’importer ou de supprimer des équipements (TDP et SIM), ainsi que de visualiser des indicateurs de performance en quasi temps réel. Ces indicateurs, calculés à la demande, peuvent être exportés au format CSV et sont adaptés à l’organisation réelle du réseau du partenaire. L’accès se fait via Internet avec une authentification sécurisée (login, mot de passe et OTP), et une double validation est requise pour les actions critiques. L’application est également accessible via mobile, avec des fonctionnalités limitées à la consultation.\n",
        "\n",
        "**Portail des Marchands** :\n",
        "Le Portail des Marchands est une application web destinée aux commerçants qui acceptent les paiements via Orange Money. Il leur permet de suivre leur activité commerciale (paiement de charges, de factures...) à travers des indicateurs en quasi temps réel, basés sur les transactions effectuées via leurs caisses ou leurs commerces. Ces indicateurs incluent les entrées et sorties sur leur compte Orange Money, ainsi que des informations financières liées à leurs paiements et charges. L’organisation hiérarchique (caisses, commerces) suit celle de TANGO, et les marchands peuvent visualiser l’activité d’une caisse, d’un commerce ou de plusieurs commerces en fonction de leur niveau d’accès. L’application est accessible via Internet avec une authentification sécurisée (login, OTP et code secret), et offre également une version mobile consultable via navigateur ou PWA.\n",
        "\n",
        "**Voici les principaux risques fonctionnels identifiés dans l’application Orange Money Partners Solutions** :\n",
        "\n",
        "- **Header / Langues** : Les langues ne s'affichent pas correctement → expérience utilisateur dégradée (Impact 3, Probabilité 4, Valeur 12, Medium)\n",
        "- **Réseaux / Suppression** : Ne pas pouvoir supprimer un réseau ou suppression accidentelle → accumulation de données obsolètes ou perte de données (Impact 3, Probabilité 4, Valeur 12, Medium)\n",
        "- **Import / TDP** : Échec d’importation des TDP → données manquantes ou erronées, impact sur la fiabilité (Impact 3, Probabilité 5, Valeur 15, High)\n",
        "- **Indicateurs** : Absence ou erreur des indicateurs réseau → difficultés dans la gestion des performances (Impact 4, Probabilité 5, Valeur 20, Highest)\n",
        "- **Droit Collaborateur** : Collaborateur reste associé après désactivation → faille de sécurité (Impact 3, Probabilité 5, Valeur 15, High)\n",
        "- **Réseau sans master** : Impossible d'attribuer un partenaire à un réseau → blocage fonctionnel critique (Impact 3, Probabilité 5, Valeur 15, High)\n",
        "\n",
        "Ces risques doivent être pris en compte dans toute analyse fonctionnelle ou technique.\n",
        "\"\"\"\n",
        "\n",
        "# ✅ Ajout des tests XML dans le contexte\n",
        "if xml_contexte != \"Aucun test XML fourni.\":\n",
        "    contexte += f\"\\n\\n**Tests XML fournis par l'utilisateur :**\\n{xml_contexte}\\n\"\n",
        "else:\n",
        "    contexte += f\"\\n\\n**Aucun test XML fourni par l'utilisateur.**\\n\"\n",
        "\n",
        "# 💬 Prompt dynamique AMÉLIORÉ avec estimation d'effort de test\n",
        "prompt = f\"\"\"\n",
        "{contexte}\n",
        "\n",
        "À partir des informations suivantes extraites d’un texte libre :\n",
        "\n",
        "- Épic : \"{epic}\"\n",
        "- Fonctionnalité : \"{fonctionnalite}\"\n",
        "- Description : \"{commentaire}\"\n",
        "\n",
        "Effectue une analyse complète du risque logiciel en t'appuyant sur le contexte métier d'Orange Money Partners Solutions.\n",
        "\n",
        "Les tests XML peuvent révéler :\n",
        "- Des cas limites\n",
        "- Des validations manquantes\n",
        "- Des erreurs de format ou de structure\n",
        "- Des risques de sécurité ou de données\n",
        "\n",
        "Pour cela, identifie **l'ensemble des risques fonctionnels pertinents**, puis **génère une seule réponse JSON** qui représente **le risque global le plus critique**, en **intégrant ou résumant** les différents risques possibles.\n",
        "\n",
        "Pour cela, réponds AU FORMAT JSON STRICT SANS AUTRE TEXTE, avec les champs suivants EXACTEMENT :\n",
        "\n",
        "{{\n",
        "  \"risque_fonctionnel\": \"string\",\n",
        "  \"impact_explication\": \"string\",\n",
        "  \"impact\": integer,\n",
        "  \"probabilite\": integer,\n",
        "  \"valeur_risque\": integer,\n",
        "  \"classification des risques\": \"Lowest\" | \"Low\" | \"Medium\" | \"High\" | \"Highest\",\n",
        "  \"effort_test_manuel\": integer,\n",
        "  \"effort_test_automatique\": integer,\n",
        "  \"effort_total_test\": integer\n",
        "}}\n",
        "\n",
        "**IMPORTANT** :\n",
        "- Calcule \"valeur_risque\" = impact * probabilite\n",
        "- \"classification des risques\" selon : <=1 → \"Lowest\", <=5 → \"Low\", <=14 → \"Medium\", <=19 → \"High\", >=20 → \"Highest\"\n",
        "- Estime \"effort_test_manuel\" entre 1 et 5 selon la complexité fonctionnelle\n",
        "- Estime \"effort_test_automatique\" entre 1 et 5 selon la stabilité technique\n",
        "- Calcule \"effort_total_test\" = effort_test_manuel * effort_test_automatique\n",
        "\n",
        "**Exemple de réponse valide :**\n",
        "{{\n",
        "  \"risque_fonctionnel\": \"Les langues ne s'affichent pas correctement selon la sélection de l'utilisateur\",\n",
        "  \"impact_explication\": \"Cela peut nuire à l'expérience utilisateur, en particulier pour les utilisateurs non francophones.\",\n",
        "  \"impact\": 3,\n",
        "  \"probabilite\": 4,\n",
        "  \"valeur_risque\": 12,\n",
        "  \"classification des risques\": \"Medium\",\n",
        "  \"effort_test_manuel\": 2,\n",
        "  \"effort_test_automatique\": 3,\n",
        "  \"effort_total_test\": 6\n",
        "}}\n",
        "\n",
        "⚠️ **IMPORTANT** :\n",
        "- Réponds AU FORMAT JSON STRICT.\n",
        "- N'ajoute AUCUN texte avant ou après le JSON.\n",
        "- Le contenu doit être uniquement un objet JSON valide, rien d'autre.\n",
        "- Tous les champs sont OBLIGATOIRES.\n",
        "\"\"\"\n",
        "\n",
        "# 💬 Appliquer le chat template (si nécessaire)\n",
        "messages = [\n",
        "    {\"role\": \"system\", \"content\": \"Tu es un expert en analyse de risque logiciel spécialisé dans une application appelée Orange Money. Tu réponds toujours avec un JSON strict et complet.\"},\n",
        "    {\"role\": \"user\", \"content\": prompt}\n",
        "]\n",
        "\n",
        "\n",
        "formatted_prompt = tokenizer.apply_chat_template(messages, tokenize=False, add_generation_prompt=True)\n",
        "response = pipe(formatted_prompt)\n",
        "generated_text = response[0][\"generated_text\"]\n",
        "answer_only = generated_text[len(formatted_prompt):].strip()\n",
        "\n",
        "# ✅ === POST-TRAITEMENT POUR GARANTIR UN JSON COMPLET ===\n",
        "\n",
        "# Fonction pour extraire un JSON même s'il est entouré de texte\n",
        "def extract_json(s: str) -> Dict[str, Any]:\n",
        "    try:\n",
        "        # Essayer directement\n",
        "        return json.loads(s)\n",
        "    except json.JSONDecodeError:\n",
        "        # Chercher entre les premières { et dernières }\n",
        "        start = s.find(\"{\")\n",
        "        end = s.rfind(\"}\") + 1\n",
        "        if start == -1 or end == 0:\n",
        "            raise ValueError(\"Aucun JSON trouvé dans la réponse\")\n",
        "        cleaned = s[start:end]\n",
        "        return json.loads(cleaned)\n",
        "\n",
        "# Essayer d'extraire le JSON\n",
        "try:\n",
        "    raw_json = extract_json(answer_only)\n",
        "except Exception as e:\n",
        "    print(\"❌ Échec de parsing JSON. Réponse brute :\")\n",
        "    print(answer_only)\n",
        "    raise e\n",
        "\n",
        "# Liste des champs obligatoires\n",
        "required_fields = [\n",
        "    \"risque_fonctionnel\", \"impact_explication\", \"impact\", \"probabilite\",\n",
        "    \"valeur_risque\", \"classification des risques\",\n",
        "    \"effort_test_manuel\", \"effort_test_automatique\", \"effort_total_test\"\n",
        "]\n",
        "\n",
        "# Valeurs par défaut pour les efforts si manquants\n",
        "default_manual = 3\n",
        "default_auto = 4\n",
        "\n",
        "# Compléter les champs manquants\n",
        "final_json = {}\n",
        "for field in required_fields:\n",
        "    if field in raw_json:\n",
        "        final_json[field] = raw_json[field]\n",
        "    else:\n",
        "        if field == \"effort_test_manuel\":\n",
        "            final_json[field] = default_manual\n",
        "        elif field == \"effort_test_automatique\":\n",
        "            final_json[field] = default_auto\n",
        "        elif field == \"effort_total_test\":\n",
        "            # Calculer même si les deux autres sont par défaut\n",
        "            manual = final_json.get(\"effort_test_manuel\", default_manual)\n",
        "            auto = final_json.get(\"effort_test_automatique\", default_auto)\n",
        "            final_json[field] = manual * auto\n",
        "        elif field == \"valeur_risque\":\n",
        "            impact = raw_json.get(\"impact\", 3)\n",
        "            proba = raw_json.get(\"probabilite\", 3)\n",
        "            final_json[field] = impact * proba\n",
        "        elif field == \"classification des risques\":\n",
        "            valeur = final_json.get(\"valeur_risque\", 9)\n",
        "            if valeur <= 1:\n",
        "                final_json[field] = \"Lowest\"\n",
        "            elif valeur <= 5:\n",
        "                final_json[field] = \"Low\"\n",
        "            elif valeur <= 14:\n",
        "                final_json[field] = \"Medium\"\n",
        "            elif valeur <= 19:\n",
        "                final_json[field] = \"High\"\n",
        "            else:\n",
        "                final_json[field] = \"Highest\"\n",
        "        else:\n",
        "            # Pour les autres champs, mettre un placeholder si vraiment manquant\n",
        "            final_json[field] = \"Non spécifié\" if isinstance(required_fields_info.get(field), str) else 0\n",
        "\n",
        "# ✅ Afficher uniquement le JSON corrigé et complet\n",
        "print(\"\\n✅ Réponse finale garantie complète :\\n\")\n",
        "print(json.dumps(final_json, indent=2, ensure_ascii=False))"
      ],
      "metadata": {
        "trusted": true,
        "execution": {
          "iopub.status.busy": "2025-08-22T14:35:24.948762Z",
          "iopub.execute_input": "2025-08-22T14:35:24.949390Z",
          "iopub.status.idle": "2025-08-22T15:14:02.190151Z",
          "shell.execute_reply.started": "2025-08-22T14:35:24.949371Z",
          "shell.execute_reply": "2025-08-22T15:14:02.189485Z"
        },
        "id": "fp1JYXL5apkN"
      },
      "outputs": [],
      "execution_count": null
    }
  ]
}
